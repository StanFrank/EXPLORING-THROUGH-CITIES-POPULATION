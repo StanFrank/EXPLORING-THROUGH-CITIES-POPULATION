{
 "cells": [
  {
   "cell_type": "markdown",
   "id": "792534da",
   "metadata": {},
   "source": [
    "# DESCRIPTIVE ANALYSIS"
   ]
  },
  {
   "cell_type": "code",
   "execution_count": 1,
   "id": "13ca1db1",
   "metadata": {},
   "outputs": [],
   "source": [
    "#importing the necessary modules for data manipulation and visualization\n",
    "\n",
    "import pandas as pd\n",
    "import seaborn as sb\n",
    "import matplotlib.pyplot as plt\n",
    "import numpy as np\n",
    "import psycopg2 as psy\n",
    "\n",
    "# display plots in the notebook itself\n",
    "%matplotlib inline"
   ]
  },
  {
   "cell_type": "code",
   "execution_count": 6,
   "id": "e1548f03",
   "metadata": {},
   "outputs": [],
   "source": [
    "#importing my dataframe to JUPYTER NOTEBOOK\n",
    "\n",
    "df=pd.read_csv(r\"C:\\Users\\HP\\Documents\\PROJECT\\Cities' Pop\\cities.csv\")\n"
   ]
  },
  {
   "cell_type": "code",
   "execution_count": 7,
   "id": "f3165a83",
   "metadata": {},
   "outputs": [
    {
     "data": {
      "text/plain": [
       "(221, 6)"
      ]
     },
     "execution_count": 7,
     "metadata": {},
     "output_type": "execute_result"
    }
   ],
   "source": [
    "#Rows by Columns\n",
    "df.shape"
   ]
  },
  {
   "cell_type": "code",
   "execution_count": 8,
   "id": "30a57060",
   "metadata": {},
   "outputs": [
    {
     "data": {
      "text/html": [
       "<div>\n",
       "<style scoped>\n",
       "    .dataframe tbody tr th:only-of-type {\n",
       "        vertical-align: middle;\n",
       "    }\n",
       "\n",
       "    .dataframe tbody tr th {\n",
       "        vertical-align: top;\n",
       "    }\n",
       "\n",
       "    .dataframe thead th {\n",
       "        text-align: right;\n",
       "    }\n",
       "</style>\n",
       "<table border=\"1\" class=\"dataframe\">\n",
       "  <thead>\n",
       "    <tr style=\"text-align: right;\">\n",
       "      <th></th>\n",
       "      <th>continent</th>\n",
       "      <th>country_id</th>\n",
       "      <th>country_name</th>\n",
       "      <th>city_id</th>\n",
       "      <th>city_name</th>\n",
       "      <th>population</th>\n",
       "    </tr>\n",
       "  </thead>\n",
       "  <tbody>\n",
       "    <tr>\n",
       "      <th>0</th>\n",
       "      <td>Africa</td>\n",
       "      <td>id_0</td>\n",
       "      <td>Country 0</td>\n",
       "      <td>cid0</td>\n",
       "      <td>City 0</td>\n",
       "      <td>940371</td>\n",
       "    </tr>\n",
       "    <tr>\n",
       "      <th>1</th>\n",
       "      <td>Africa</td>\n",
       "      <td>id_1</td>\n",
       "      <td>Country 1</td>\n",
       "      <td>cid0</td>\n",
       "      <td>City 0</td>\n",
       "      <td>1170319</td>\n",
       "    </tr>\n",
       "    <tr>\n",
       "      <th>2</th>\n",
       "      <td>Africa</td>\n",
       "      <td>id_1</td>\n",
       "      <td>Country 1</td>\n",
       "      <td>cid1</td>\n",
       "      <td>City 1</td>\n",
       "      <td>1580651</td>\n",
       "    </tr>\n",
       "    <tr>\n",
       "      <th>3</th>\n",
       "      <td>Africa</td>\n",
       "      <td>id_1</td>\n",
       "      <td>Country 1</td>\n",
       "      <td>cid2</td>\n",
       "      <td>City 2</td>\n",
       "      <td>1360412</td>\n",
       "    </tr>\n",
       "    <tr>\n",
       "      <th>4</th>\n",
       "      <td>Africa</td>\n",
       "      <td>id_1</td>\n",
       "      <td>Country 1</td>\n",
       "      <td>cid3</td>\n",
       "      <td>City 3</td>\n",
       "      <td>1390719</td>\n",
       "    </tr>\n",
       "    <tr>\n",
       "      <th>...</th>\n",
       "      <td>...</td>\n",
       "      <td>...</td>\n",
       "      <td>...</td>\n",
       "      <td>...</td>\n",
       "      <td>...</td>\n",
       "      <td>...</td>\n",
       "    </tr>\n",
       "    <tr>\n",
       "      <th>216</th>\n",
       "      <td>Africa</td>\n",
       "      <td>id_38</td>\n",
       "      <td>Country 38</td>\n",
       "      <td>cid0</td>\n",
       "      <td>City 0</td>\n",
       "      <td>1672547</td>\n",
       "    </tr>\n",
       "    <tr>\n",
       "      <th>217</th>\n",
       "      <td>Africa</td>\n",
       "      <td>id_38</td>\n",
       "      <td>Country 38</td>\n",
       "      <td>cid1</td>\n",
       "      <td>City 1</td>\n",
       "      <td>847495</td>\n",
       "    </tr>\n",
       "    <tr>\n",
       "      <th>218</th>\n",
       "      <td>Africa</td>\n",
       "      <td>id_39</td>\n",
       "      <td>Country 39</td>\n",
       "      <td>cid0</td>\n",
       "      <td>City 0</td>\n",
       "      <td>1359754</td>\n",
       "    </tr>\n",
       "    <tr>\n",
       "      <th>219</th>\n",
       "      <td>Africa</td>\n",
       "      <td>id_39</td>\n",
       "      <td>Country 39</td>\n",
       "      <td>cid1</td>\n",
       "      <td>City 1</td>\n",
       "      <td>1563952</td>\n",
       "    </tr>\n",
       "    <tr>\n",
       "      <th>220</th>\n",
       "      <td>Africa</td>\n",
       "      <td>id_39</td>\n",
       "      <td>Country 39</td>\n",
       "      <td>cid2</td>\n",
       "      <td>City 2</td>\n",
       "      <td>1892999</td>\n",
       "    </tr>\n",
       "  </tbody>\n",
       "</table>\n",
       "<p>221 rows × 6 columns</p>\n",
       "</div>"
      ],
      "text/plain": [
       "    continent country_id country_name city_id city_name  population\n",
       "0      Africa       id_0    Country 0    cid0    City 0      940371\n",
       "1      Africa       id_1    Country 1    cid0    City 0     1170319\n",
       "2      Africa       id_1    Country 1    cid1    City 1     1580651\n",
       "3      Africa       id_1    Country 1    cid2    City 2     1360412\n",
       "4      Africa       id_1    Country 1    cid3    City 3     1390719\n",
       "..        ...        ...          ...     ...       ...         ...\n",
       "216    Africa      id_38   Country 38    cid0    City 0     1672547\n",
       "217    Africa      id_38   Country 38    cid1    City 1      847495\n",
       "218    Africa      id_39   Country 39    cid0    City 0     1359754\n",
       "219    Africa      id_39   Country 39    cid1    City 1     1563952\n",
       "220    Africa      id_39   Country 39    cid2    City 2     1892999\n",
       "\n",
       "[221 rows x 6 columns]"
      ]
     },
     "execution_count": 8,
     "metadata": {},
     "output_type": "execute_result"
    }
   ],
   "source": [
    "#Confirming my dataset\n",
    "df"
   ]
  },
  {
   "cell_type": "code",
   "execution_count": 6,
   "id": "06bca78c",
   "metadata": {},
   "outputs": [
    {
     "data": {
      "text/html": [
       "<div>\n",
       "<style scoped>\n",
       "    .dataframe tbody tr th:only-of-type {\n",
       "        vertical-align: middle;\n",
       "    }\n",
       "\n",
       "    .dataframe tbody tr th {\n",
       "        vertical-align: top;\n",
       "    }\n",
       "\n",
       "    .dataframe thead th {\n",
       "        text-align: right;\n",
       "    }\n",
       "</style>\n",
       "<table border=\"1\" class=\"dataframe\">\n",
       "  <thead>\n",
       "    <tr style=\"text-align: right;\">\n",
       "      <th></th>\n",
       "      <th>population</th>\n",
       "    </tr>\n",
       "  </thead>\n",
       "  <tbody>\n",
       "    <tr>\n",
       "      <th>count</th>\n",
       "      <td>2.210000e+02</td>\n",
       "    </tr>\n",
       "    <tr>\n",
       "      <th>mean</th>\n",
       "      <td>7.656255e+06</td>\n",
       "    </tr>\n",
       "    <tr>\n",
       "      <th>std</th>\n",
       "      <td>5.365207e+06</td>\n",
       "    </tr>\n",
       "    <tr>\n",
       "      <th>min</th>\n",
       "      <td>6.277740e+05</td>\n",
       "    </tr>\n",
       "    <tr>\n",
       "      <th>25%</th>\n",
       "      <td>1.427306e+06</td>\n",
       "    </tr>\n",
       "    <tr>\n",
       "      <th>50%</th>\n",
       "      <td>9.942920e+06</td>\n",
       "    </tr>\n",
       "    <tr>\n",
       "      <th>75%</th>\n",
       "      <td>1.222541e+07</td>\n",
       "    </tr>\n",
       "    <tr>\n",
       "      <th>max</th>\n",
       "      <td>1.698524e+07</td>\n",
       "    </tr>\n",
       "  </tbody>\n",
       "</table>\n",
       "</div>"
      ],
      "text/plain": [
       "         population\n",
       "count  2.210000e+02\n",
       "mean   7.656255e+06\n",
       "std    5.365207e+06\n",
       "min    6.277740e+05\n",
       "25%    1.427306e+06\n",
       "50%    9.942920e+06\n",
       "75%    1.222541e+07\n",
       "max    1.698524e+07"
      ]
     },
     "execution_count": 6,
     "metadata": {},
     "output_type": "execute_result"
    }
   ],
   "source": [
    "#To give a summary of mean,median,min and max of the cities' population \n",
    "df.describe()"
   ]
  },
  {
   "cell_type": "code",
   "execution_count": 15,
   "id": "44c8b511",
   "metadata": {},
   "outputs": [
    {
     "data": {
      "text/plain": [
       "1692032304"
      ]
     },
     "execution_count": 15,
     "metadata": {},
     "output_type": "execute_result"
    }
   ],
   "source": [
    "#total population of cities\n",
    "df.population.sum()"
   ]
  },
  {
   "cell_type": "code",
   "execution_count": 5,
   "id": "6edd7f0a",
   "metadata": {},
   "outputs": [
    {
     "data": {
      "text/plain": [
       "continent       0\n",
       "country_id      0\n",
       "country_name    0\n",
       "city_id         0\n",
       "city_name       0\n",
       "population      0\n",
       "dtype: int64"
      ]
     },
     "execution_count": 5,
     "metadata": {},
     "output_type": "execute_result"
    }
   ],
   "source": [
    "#NO null cell in my data\n",
    "df.isna().sum()"
   ]
  },
  {
   "cell_type": "code",
   "execution_count": 9,
   "id": "3f41d162",
   "metadata": {},
   "outputs": [
    {
     "data": {
      "text/plain": [
       "array(['Africa', 'Europe', 'Asia'], dtype=object)"
      ]
     },
     "execution_count": 9,
     "metadata": {},
     "output_type": "execute_result"
    }
   ],
   "source": [
    "#The continents in my data\n",
    "df['continent'].unique()"
   ]
  },
  {
   "cell_type": "code",
   "execution_count": 10,
   "id": "204e0a79",
   "metadata": {},
   "outputs": [
    {
     "data": {
      "text/plain": [
       "Asia      133\n",
       "Africa     61\n",
       "Europe     27\n",
       "Name: continent, dtype: int64"
      ]
     },
     "execution_count": 10,
     "metadata": {},
     "output_type": "execute_result"
    }
   ],
   "source": [
    "#Cities per continent\n",
    "df.continent.value_counts()"
   ]
  },
  {
   "cell_type": "code",
   "execution_count": 34,
   "id": "9ef7981c",
   "metadata": {},
   "outputs": [
    {
     "data": {
      "text/plain": [
       "array(['Africa', 'Europe', 'Asia'], dtype=object)"
      ]
     },
     "execution_count": 34,
     "metadata": {},
     "output_type": "execute_result"
    }
   ],
   "source": [
    "#mapping africa and afric as africa\n",
    "df['continent']=df.continent.map({'Africa':'Africa','Afric':'Africa','Europe':'Europe','Asia':'Asia'})\n",
    "df['continent'].unique()"
   ]
  },
  {
   "cell_type": "code",
   "execution_count": 12,
   "id": "1c0745ab",
   "metadata": {},
   "outputs": [
    {
     "data": {
      "text/plain": [
       "array(['Country 0', 'Country 1', 'Country 2', 'Country 3', 'Country 4',\n",
       "       'Country 5', 'Country 6', 'Country 7', 'Country 8', 'Country 9',\n",
       "       'Country 10', 'Country 11', 'Country 12', 'Country 13',\n",
       "       'Country 14', 'Country 15', 'Country 16', 'Country 17',\n",
       "       'Country 18', 'Country 19', 'Country 20', 'Country 21',\n",
       "       'Country 22', 'Country 23', 'Country 24', 'Country 25',\n",
       "       'Country 26', 'Country 27', 'Country 28', 'Country 29',\n",
       "       'Country 30', 'Country 31', 'Country 32', 'Country 33',\n",
       "       'Country 34', 'Country 35', 'Country 36', 'Country 37',\n",
       "       'Country 38', 'Country 39'], dtype=object)"
      ]
     },
     "execution_count": 12,
     "metadata": {},
     "output_type": "execute_result"
    }
   ],
   "source": [
    "#The countries in my data\n",
    "df.country_name.unique()"
   ]
  },
  {
   "cell_type": "code",
   "execution_count": 13,
   "id": "5668ffc3",
   "metadata": {},
   "outputs": [
    {
     "data": {
      "text/plain": [
       "3"
      ]
     },
     "execution_count": 13,
     "metadata": {},
     "output_type": "execute_result"
    }
   ],
   "source": [
    "#number of continents\n",
    "df['continent']=df.continent.map({'Africa':'Africa','Afric':'Africa','Europe':'Europe','Asia':'Asia'})\n",
    "len(df['continent'].unique())"
   ]
  },
  {
   "cell_type": "code",
   "execution_count": 14,
   "id": "478561d9",
   "metadata": {},
   "outputs": [
    {
     "data": {
      "text/plain": [
       "40"
      ]
     },
     "execution_count": 14,
     "metadata": {},
     "output_type": "execute_result"
    }
   ],
   "source": [
    "#Number of countries\n",
    "len(df.country_name.unique())"
   ]
  },
  {
   "cell_type": "code",
   "execution_count": 15,
   "id": "c071f5ba",
   "metadata": {},
   "outputs": [
    {
     "data": {
      "text/plain": [
       "221"
      ]
     },
     "execution_count": 15,
     "metadata": {},
     "output_type": "execute_result"
    }
   ],
   "source": [
    "#Number of cities\n",
    "len(df.city_name)"
   ]
  },
  {
   "cell_type": "markdown",
   "id": "36350867",
   "metadata": {},
   "source": [
    "Sorting populations of the cities"
   ]
  },
  {
   "cell_type": "code",
   "execution_count": 41,
   "id": "ce075d41",
   "metadata": {},
   "outputs": [
    {
     "data": {
      "text/html": [
       "<div>\n",
       "<style scoped>\n",
       "    .dataframe tbody tr th:only-of-type {\n",
       "        vertical-align: middle;\n",
       "    }\n",
       "\n",
       "    .dataframe tbody tr th {\n",
       "        vertical-align: top;\n",
       "    }\n",
       "\n",
       "    .dataframe thead th {\n",
       "        text-align: right;\n",
       "    }\n",
       "</style>\n",
       "<table border=\"1\" class=\"dataframe\">\n",
       "  <thead>\n",
       "    <tr style=\"text-align: right;\">\n",
       "      <th></th>\n",
       "      <th>country_id</th>\n",
       "      <th>city_id</th>\n",
       "      <th>population</th>\n",
       "    </tr>\n",
       "  </thead>\n",
       "  <tbody>\n",
       "    <tr>\n",
       "      <th>131</th>\n",
       "      <td>id_28</td>\n",
       "      <td>cid3</td>\n",
       "      <td>16985241</td>\n",
       "    </tr>\n",
       "    <tr>\n",
       "      <th>174</th>\n",
       "      <td>id_32</td>\n",
       "      <td>cid2</td>\n",
       "      <td>16668314</td>\n",
       "    </tr>\n",
       "    <tr>\n",
       "      <th>112</th>\n",
       "      <td>id_26</td>\n",
       "      <td>cid17</td>\n",
       "      <td>16086202</td>\n",
       "    </tr>\n",
       "    <tr>\n",
       "      <th>141</th>\n",
       "      <td>id_28</td>\n",
       "      <td>cid13</td>\n",
       "      <td>15999905</td>\n",
       "    </tr>\n",
       "    <tr>\n",
       "      <th>153</th>\n",
       "      <td>id_30</td>\n",
       "      <td>cid6</td>\n",
       "      <td>15379104</td>\n",
       "    </tr>\n",
       "  </tbody>\n",
       "</table>\n",
       "</div>"
      ],
      "text/plain": [
       "    country_id city_id  population\n",
       "131      id_28    cid3    16985241\n",
       "174      id_32    cid2    16668314\n",
       "112      id_26   cid17    16086202\n",
       "141      id_28   cid13    15999905\n",
       "153      id_30    cid6    15379104"
      ]
     },
     "execution_count": 41,
     "metadata": {},
     "output_type": "execute_result"
    }
   ],
   "source": [
    "df[['country_id','city_id','population']].nlargest(5,columns='population')"
   ]
  },
  {
   "cell_type": "code",
   "execution_count": 39,
   "id": "b9c88d8a",
   "metadata": {},
   "outputs": [
    {
     "data": {
      "text/html": [
       "<div>\n",
       "<style scoped>\n",
       "    .dataframe tbody tr th:only-of-type {\n",
       "        vertical-align: middle;\n",
       "    }\n",
       "\n",
       "    .dataframe tbody tr th {\n",
       "        vertical-align: top;\n",
       "    }\n",
       "\n",
       "    .dataframe thead th {\n",
       "        text-align: right;\n",
       "    }\n",
       "</style>\n",
       "<table border=\"1\" class=\"dataframe\">\n",
       "  <thead>\n",
       "    <tr style=\"text-align: right;\">\n",
       "      <th></th>\n",
       "      <th>country_id</th>\n",
       "      <th>city_id</th>\n",
       "      <th>population</th>\n",
       "    </tr>\n",
       "  </thead>\n",
       "  <tbody>\n",
       "    <tr>\n",
       "      <th>131</th>\n",
       "      <td>id_28</td>\n",
       "      <td>cid3</td>\n",
       "      <td>16985241</td>\n",
       "    </tr>\n",
       "    <tr>\n",
       "      <th>174</th>\n",
       "      <td>id_32</td>\n",
       "      <td>cid2</td>\n",
       "      <td>16668314</td>\n",
       "    </tr>\n",
       "    <tr>\n",
       "      <th>112</th>\n",
       "      <td>id_26</td>\n",
       "      <td>cid17</td>\n",
       "      <td>16086202</td>\n",
       "    </tr>\n",
       "    <tr>\n",
       "      <th>141</th>\n",
       "      <td>id_28</td>\n",
       "      <td>cid13</td>\n",
       "      <td>15999905</td>\n",
       "    </tr>\n",
       "    <tr>\n",
       "      <th>153</th>\n",
       "      <td>id_30</td>\n",
       "      <td>cid6</td>\n",
       "      <td>15379104</td>\n",
       "    </tr>\n",
       "  </tbody>\n",
       "</table>\n",
       "</div>"
      ],
      "text/plain": [
       "    country_id city_id  population\n",
       "131      id_28    cid3    16985241\n",
       "174      id_32    cid2    16668314\n",
       "112      id_26   cid17    16086202\n",
       "141      id_28   cid13    15999905\n",
       "153      id_30    cid6    15379104"
      ]
     },
     "execution_count": 39,
     "metadata": {},
     "output_type": "execute_result"
    }
   ],
   "source": [
    "df[['country_id','city_id','population']].sort_values(by='population',ascending=False)[:5]"
   ]
  },
  {
   "cell_type": "markdown",
   "id": "16013c31",
   "metadata": {},
   "source": [
    "POPULATION PER CONTINENT"
   ]
  },
  {
   "cell_type": "code",
   "execution_count": 101,
   "id": "beea17be",
   "metadata": {},
   "outputs": [
    {
     "name": "stdout",
     "output_type": "stream",
     "text": [
      "Africa 89689975\n",
      "Europe 26367445\n",
      "Asia 1575974884\n"
     ]
    }
   ],
   "source": [
    "#population per continent\n",
    "continents=list(df['continent'].unique())\n",
    "continents\n",
    "\n",
    "for cont in continents:\n",
    "    print(cont,df.groupby('continent')['population'].get_group(cont).sum())"
   ]
  },
  {
   "cell_type": "code",
   "execution_count": 17,
   "id": "064bfa14",
   "metadata": {},
   "outputs": [
    {
     "data": {
      "image/png": "[encoded data removed]",
      "text/plain": [
       "<Figure size 432x288 with 1 Axes>"
      ]
     },
     "metadata": {
      "needs_background": "light"
     },
     "output_type": "display_data"
    }
   ],
   "source": [
    "#Visualizing population size of each continent\n",
    "\n",
    "sb.barplot(x=\"continent\", y=\"population\", data=df)\n",
    "plt.title('Population by Continent');"
   ]
  },
  {
   "cell_type": "markdown",
   "id": "c7ddaf6f",
   "metadata": {},
   "source": [
    "Asia has the largest population followed by Africa and then Europe with the least"
   ]
  },
  {
   "cell_type": "markdown",
   "id": "cc70a7e5",
   "metadata": {},
   "source": [
    "NUMBER OF COUNTRIES PER CONTINENT"
   ]
  },
  {
   "cell_type": "code",
   "execution_count": 93,
   "id": "afb2189f",
   "metadata": {
    "scrolled": true
   },
   "outputs": [
    {
     "name": "stdout",
     "output_type": "stream",
     "text": [
      "Continent(0 is Africa, 1 is Europe, 2 is Asia):  2\n",
      "['Country 24' 'Country 25' 'Country 26' 'Country 27' 'Country 28'\n",
      " 'Country 29' 'Country 30' 'Country 31' 'Country 32' 'Country 33'\n",
      " 'Country 34' 'Country 35']\n",
      "Asia has 12 countries\n"
     ]
    }
   ],
   "source": [
    "#Number of Countries per continent\n",
    "i=eval(input('Continent(0 is Africa, 1 is Europe, 2 is Asia):  '))\n",
    "\n",
    "print( df.groupby('continent')['country_name'].get_group(continents[i]).unique())\n",
    "print(continents[i],'has',len(df.groupby('continent')['country_name'].get_group(continents[i]).unique()),'countries')"
   ]
  },
  {
   "cell_type": "markdown",
   "id": "0963b0da",
   "metadata": {},
   "source": [
    "NUMBER OF CITIES PER CONTINENT"
   ]
  },
  {
   "cell_type": "code",
   "execution_count": 94,
   "id": "808ca7fc",
   "metadata": {},
   "outputs": [
    {
     "name": "stdout",
     "output_type": "stream",
     "text": [
      "Continent(0 is Africa, 1 is Europe, 2 is Asia):  2\n",
      "Asia has 133 cities\n"
     ]
    }
   ],
   "source": [
    "#Number of cities per continent\n",
    "i=eval(input('Continent(0 is Africa, 1 is Europe, 2 is Asia):  '))\n",
    "\n",
    "#print( df.groupby('continent')['city_name'].get_group(continents[i]))\n",
    "print(continents[i],'has',len(df.groupby('continent')['country_name'].get_group(continents[i])),'cities')"
   ]
  },
  {
   "cell_type": "markdown",
   "id": "31f8fa23",
   "metadata": {},
   "source": [
    "NUMBER OF CITIES PER COUNTRY"
   ]
  },
  {
   "cell_type": "code",
   "execution_count": 106,
   "id": "1655889d",
   "metadata": {},
   "outputs": [
    {
     "name": "stdout",
     "output_type": "stream",
     "text": [
      "Country:26\n",
      "95      City 0\n",
      "96      City 1\n",
      "97      City 2\n",
      "98      City 3\n",
      "99      City 4\n",
      "100     City 5\n",
      "101     City 6\n",
      "102     City 7\n",
      "103     City 8\n",
      "104     City 9\n",
      "105    City 10\n",
      "106    City 11\n",
      "107    City 12\n",
      "108    City 13\n",
      "109    City 14\n",
      "110    City 15\n",
      "111    City 16\n",
      "112    City 17\n",
      "113    City 18\n",
      "Name: city_name, dtype: object\n",
      "Country 26 has 19 cities\n"
     ]
    }
   ],
   "source": [
    "#Number of cities per country\n",
    "num=eval(input('Country:'))\n",
    "\n",
    "print( df.groupby('country_name')['city_name'].get_group('Country '+ str(num)))\n",
    "print('Country '+ str(num),'has',len(df.groupby('country_name')['city_name'].get_group('Country '+str(num))),'cities')"
   ]
  },
  {
   "cell_type": "markdown",
   "id": "134361ba",
   "metadata": {},
   "source": [
    "POPULATION PER CITY and TOTAL POPULATION "
   ]
  },
  {
   "cell_type": "code",
   "execution_count": 105,
   "id": "0d043a55",
   "metadata": {},
   "outputs": [
    {
     "name": "stdout",
     "output_type": "stream",
     "text": [
      "Country id: 26\n",
      "[(0, 14910448), (1, 12750822), (2, 13151503), (3, 10871967), (4, 12370379), (5, 13195176), (6, 9579043), (7, 12180479), (8, 12393020), (9, 7139641), (10, 11382458), (11, 12816540), (12, 10168140), (13, 14347715), (14, 12302169), (15, 9404988), (16, 12393981), (17, 16086202), (18, 11801723)]\n",
      "Total Population = 229246394\n"
     ]
    }
   ],
   "source": [
    "#population per city in that country and total population per country\n",
    "my_country=eval(input(\"Country id: \"))\n",
    "for country_no in list(range(40)):\n",
    "    if country_no==my_country:\n",
    "        cities_pop=list(enumerate(df.groupby('country_name')['population'].get_group('Country '+str(country_no))))\n",
    "        dataframe=df.groupby('country_name')['population'].get_group('Country '+str(country_no)).sum()\n",
    "print(cities_pop)\n",
    "print('Total Population =',dataframe)\n",
    "        "
   ]
  },
  {
   "cell_type": "markdown",
   "id": "7009ccec",
   "metadata": {},
   "source": [
    "CREATING A PIVOT TABLE"
   ]
  },
  {
   "cell_type": "code",
   "execution_count": 355,
   "id": "c482c128",
   "metadata": {},
   "outputs": [
    {
     "data": {
      "text/html": [
       "<div>\n",
       "<style scoped>\n",
       "    .dataframe tbody tr th:only-of-type {\n",
       "        vertical-align: middle;\n",
       "    }\n",
       "\n",
       "    .dataframe tbody tr th {\n",
       "        vertical-align: top;\n",
       "    }\n",
       "\n",
       "    .dataframe thead th {\n",
       "        text-align: right;\n",
       "    }\n",
       "</style>\n",
       "<table border=\"1\" class=\"dataframe\">\n",
       "  <thead>\n",
       "    <tr style=\"text-align: right;\">\n",
       "      <th>continent</th>\n",
       "      <th>Africa</th>\n",
       "      <th>Asia</th>\n",
       "      <th>Europe</th>\n",
       "    </tr>\n",
       "    <tr>\n",
       "      <th>country_name</th>\n",
       "      <th></th>\n",
       "      <th></th>\n",
       "      <th></th>\n",
       "    </tr>\n",
       "  </thead>\n",
       "  <tbody>\n",
       "    <tr>\n",
       "      <th>Country 0</th>\n",
       "      <td>940371.0</td>\n",
       "      <td>NaN</td>\n",
       "      <td>NaN</td>\n",
       "    </tr>\n",
       "    <tr>\n",
       "      <th>Country 1</th>\n",
       "      <td>5502101.0</td>\n",
       "      <td>NaN</td>\n",
       "      <td>NaN</td>\n",
       "    </tr>\n",
       "    <tr>\n",
       "      <th>Country 10</th>\n",
       "      <td>6820589.0</td>\n",
       "      <td>NaN</td>\n",
       "      <td>NaN</td>\n",
       "    </tr>\n",
       "    <tr>\n",
       "      <th>Country 11</th>\n",
       "      <td>2344167.0</td>\n",
       "      <td>NaN</td>\n",
       "      <td>NaN</td>\n",
       "    </tr>\n",
       "    <tr>\n",
       "      <th>Country 12</th>\n",
       "      <td>1698172.0</td>\n",
       "      <td>NaN</td>\n",
       "      <td>NaN</td>\n",
       "    </tr>\n",
       "    <tr>\n",
       "      <th>Country 13</th>\n",
       "      <td>6865945.0</td>\n",
       "      <td>NaN</td>\n",
       "      <td>NaN</td>\n",
       "    </tr>\n",
       "    <tr>\n",
       "      <th>Country 14</th>\n",
       "      <td>1330149.0</td>\n",
       "      <td>NaN</td>\n",
       "      <td>NaN</td>\n",
       "    </tr>\n",
       "    <tr>\n",
       "      <th>Country 15</th>\n",
       "      <td>2819378.0</td>\n",
       "      <td>NaN</td>\n",
       "      <td>NaN</td>\n",
       "    </tr>\n",
       "    <tr>\n",
       "      <th>Country 16</th>\n",
       "      <td>4572219.0</td>\n",
       "      <td>NaN</td>\n",
       "      <td>NaN</td>\n",
       "    </tr>\n",
       "    <tr>\n",
       "      <th>Country 17</th>\n",
       "      <td>1429802.0</td>\n",
       "      <td>NaN</td>\n",
       "      <td>NaN</td>\n",
       "    </tr>\n",
       "    <tr>\n",
       "      <th>Country 18</th>\n",
       "      <td>4420245.0</td>\n",
       "      <td>NaN</td>\n",
       "      <td>NaN</td>\n",
       "    </tr>\n",
       "    <tr>\n",
       "      <th>Country 19</th>\n",
       "      <td>4504303.0</td>\n",
       "      <td>NaN</td>\n",
       "      <td>NaN</td>\n",
       "    </tr>\n",
       "    <tr>\n",
       "      <th>Country 2</th>\n",
       "      <td>4332075.0</td>\n",
       "      <td>NaN</td>\n",
       "      <td>NaN</td>\n",
       "    </tr>\n",
       "    <tr>\n",
       "      <th>Country 20</th>\n",
       "      <td>NaN</td>\n",
       "      <td>NaN</td>\n",
       "      <td>8988648.0</td>\n",
       "    </tr>\n",
       "    <tr>\n",
       "      <th>Country 21</th>\n",
       "      <td>NaN</td>\n",
       "      <td>NaN</td>\n",
       "      <td>8652955.0</td>\n",
       "    </tr>\n",
       "    <tr>\n",
       "      <th>Country 22</th>\n",
       "      <td>NaN</td>\n",
       "      <td>NaN</td>\n",
       "      <td>6178268.0</td>\n",
       "    </tr>\n",
       "    <tr>\n",
       "      <th>Country 23</th>\n",
       "      <td>NaN</td>\n",
       "      <td>NaN</td>\n",
       "      <td>2547574.0</td>\n",
       "    </tr>\n",
       "    <tr>\n",
       "      <th>Country 24</th>\n",
       "      <td>NaN</td>\n",
       "      <td>64889670.0</td>\n",
       "      <td>NaN</td>\n",
       "    </tr>\n",
       "    <tr>\n",
       "      <th>Country 25</th>\n",
       "      <td>NaN</td>\n",
       "      <td>117708791.0</td>\n",
       "      <td>NaN</td>\n",
       "    </tr>\n",
       "    <tr>\n",
       "      <th>Country 26</th>\n",
       "      <td>NaN</td>\n",
       "      <td>229246394.0</td>\n",
       "      <td>NaN</td>\n",
       "    </tr>\n",
       "    <tr>\n",
       "      <th>Country 27</th>\n",
       "      <td>NaN</td>\n",
       "      <td>163218663.0</td>\n",
       "      <td>NaN</td>\n",
       "    </tr>\n",
       "    <tr>\n",
       "      <th>Country 28</th>\n",
       "      <td>NaN</td>\n",
       "      <td>181613427.0</td>\n",
       "      <td>NaN</td>\n",
       "    </tr>\n",
       "    <tr>\n",
       "      <th>Country 29</th>\n",
       "      <td>NaN</td>\n",
       "      <td>49684058.0</td>\n",
       "      <td>NaN</td>\n",
       "    </tr>\n",
       "    <tr>\n",
       "      <th>Country 3</th>\n",
       "      <td>4988393.0</td>\n",
       "      <td>NaN</td>\n",
       "      <td>NaN</td>\n",
       "    </tr>\n",
       "    <tr>\n",
       "      <th>Country 30</th>\n",
       "      <td>NaN</td>\n",
       "      <td>209097083.0</td>\n",
       "      <td>NaN</td>\n",
       "    </tr>\n",
       "    <tr>\n",
       "      <th>Country 31</th>\n",
       "      <td>NaN</td>\n",
       "      <td>87266817.0</td>\n",
       "      <td>NaN</td>\n",
       "    </tr>\n",
       "    <tr>\n",
       "      <th>Country 32</th>\n",
       "      <td>NaN</td>\n",
       "      <td>213122946.0</td>\n",
       "      <td>NaN</td>\n",
       "    </tr>\n",
       "    <tr>\n",
       "      <th>Country 33</th>\n",
       "      <td>NaN</td>\n",
       "      <td>25805919.0</td>\n",
       "      <td>NaN</td>\n",
       "    </tr>\n",
       "    <tr>\n",
       "      <th>Country 34</th>\n",
       "      <td>NaN</td>\n",
       "      <td>156371156.0</td>\n",
       "      <td>NaN</td>\n",
       "    </tr>\n",
       "    <tr>\n",
       "      <th>Country 35</th>\n",
       "      <td>NaN</td>\n",
       "      <td>77949960.0</td>\n",
       "      <td>NaN</td>\n",
       "    </tr>\n",
       "    <tr>\n",
       "      <th>Country 36</th>\n",
       "      <td>2557743.0</td>\n",
       "      <td>NaN</td>\n",
       "      <td>NaN</td>\n",
       "    </tr>\n",
       "    <tr>\n",
       "      <th>Country 37</th>\n",
       "      <td>3372601.0</td>\n",
       "      <td>NaN</td>\n",
       "      <td>NaN</td>\n",
       "    </tr>\n",
       "    <tr>\n",
       "      <th>Country 38</th>\n",
       "      <td>2520042.0</td>\n",
       "      <td>NaN</td>\n",
       "      <td>NaN</td>\n",
       "    </tr>\n",
       "    <tr>\n",
       "      <th>Country 39</th>\n",
       "      <td>4816705.0</td>\n",
       "      <td>NaN</td>\n",
       "      <td>NaN</td>\n",
       "    </tr>\n",
       "    <tr>\n",
       "      <th>Country 4</th>\n",
       "      <td>4320521.0</td>\n",
       "      <td>NaN</td>\n",
       "      <td>NaN</td>\n",
       "    </tr>\n",
       "    <tr>\n",
       "      <th>Country 5</th>\n",
       "      <td>6482995.0</td>\n",
       "      <td>NaN</td>\n",
       "      <td>NaN</td>\n",
       "    </tr>\n",
       "    <tr>\n",
       "      <th>Country 6</th>\n",
       "      <td>4134229.0</td>\n",
       "      <td>NaN</td>\n",
       "      <td>NaN</td>\n",
       "    </tr>\n",
       "    <tr>\n",
       "      <th>Country 7</th>\n",
       "      <td>2760333.0</td>\n",
       "      <td>NaN</td>\n",
       "      <td>NaN</td>\n",
       "    </tr>\n",
       "    <tr>\n",
       "      <th>Country 8</th>\n",
       "      <td>4410888.0</td>\n",
       "      <td>NaN</td>\n",
       "      <td>NaN</td>\n",
       "    </tr>\n",
       "    <tr>\n",
       "      <th>Country 9</th>\n",
       "      <td>1746009.0</td>\n",
       "      <td>NaN</td>\n",
       "      <td>NaN</td>\n",
       "    </tr>\n",
       "  </tbody>\n",
       "</table>\n",
       "</div>"
      ],
      "text/plain": [
       "continent        Africa         Asia     Europe\n",
       "country_name                                   \n",
       "Country 0      940371.0          NaN        NaN\n",
       "Country 1     5502101.0          NaN        NaN\n",
       "Country 10    6820589.0          NaN        NaN\n",
       "Country 11    2344167.0          NaN        NaN\n",
       "Country 12    1698172.0          NaN        NaN\n",
       "Country 13    6865945.0          NaN        NaN\n",
       "Country 14    1330149.0          NaN        NaN\n",
       "Country 15    2819378.0          NaN        NaN\n",
       "Country 16    4572219.0          NaN        NaN\n",
       "Country 17    1429802.0          NaN        NaN\n",
       "Country 18    4420245.0          NaN        NaN\n",
       "Country 19    4504303.0          NaN        NaN\n",
       "Country 2     4332075.0          NaN        NaN\n",
       "Country 20          NaN          NaN  8988648.0\n",
       "Country 21          NaN          NaN  8652955.0\n",
       "Country 22          NaN          NaN  6178268.0\n",
       "Country 23          NaN          NaN  2547574.0\n",
       "Country 24          NaN   64889670.0        NaN\n",
       "Country 25          NaN  117708791.0        NaN\n",
       "Country 26          NaN  229246394.0        NaN\n",
       "Country 27          NaN  163218663.0        NaN\n",
       "Country 28          NaN  181613427.0        NaN\n",
       "Country 29          NaN   49684058.0        NaN\n",
       "Country 3     4988393.0          NaN        NaN\n",
       "Country 30          NaN  209097083.0        NaN\n",
       "Country 31          NaN   87266817.0        NaN\n",
       "Country 32          NaN  213122946.0        NaN\n",
       "Country 33          NaN   25805919.0        NaN\n",
       "Country 34          NaN  156371156.0        NaN\n",
       "Country 35          NaN   77949960.0        NaN\n",
       "Country 36    2557743.0          NaN        NaN\n",
       "Country 37    3372601.0          NaN        NaN\n",
       "Country 38    2520042.0          NaN        NaN\n",
       "Country 39    4816705.0          NaN        NaN\n",
       "Country 4     4320521.0          NaN        NaN\n",
       "Country 5     6482995.0          NaN        NaN\n",
       "Country 6     4134229.0          NaN        NaN\n",
       "Country 7     2760333.0          NaN        NaN\n",
       "Country 8     4410888.0          NaN        NaN\n",
       "Country 9     1746009.0          NaN        NaN"
      ]
     },
     "execution_count": 355,
     "metadata": {},
     "output_type": "execute_result"
    }
   ],
   "source": [
    "#Creating a pivot table for countries population per continent\n",
    "pd.pivot_table(df,values='population',columns=['continent'],index=['country_name'],aggfunc=sum)"
   ]
  },
  {
   "cell_type": "markdown",
   "id": "79a895b2",
   "metadata": {},
   "source": [
    "# BASIC VISUALIZATIONS"
   ]
  },
  {
   "cell_type": "markdown",
   "id": "37e62722",
   "metadata": {},
   "source": [
    "A BARCHART FOR CITIES POPULATION IN EACH CONTINENT"
   ]
  },
  {
   "cell_type": "code",
   "execution_count": 56,
   "id": "c72c5dbc",
   "metadata": {},
   "outputs": [
    {
     "name": "stdout",
     "output_type": "stream",
     "text": [
      "Continent(0 is Africa, 1 is Europe, 2 is Asia):1\n"
     ]
    },
    {
     "data": {
      "image/png": "[encoded data removed]",
      "text/plain": [
       "<Figure size 432x288 with 1 Axes>"
      ]
     },
     "metadata": {
      "needs_background": "light"
     },
     "output_type": "display_data"
    }
   ],
   "source": [
    "continents=list(df['continent'].unique())\n",
    "continents\n",
    "i=eval(input('Continent(0 is Africa, 1 is Europe, 2 is Asia):'))\n",
    "for cont in list(range(3)):\n",
    "    if cont==i:\n",
    "        cities_by_continent=df.groupby('continent')['population'].get_group(continents[i])\n",
    "        #print(countries_by_continent)\n",
    "\n",
    "x=cities_by_continent.index.tolist()\n",
    "y=cities_by_continent.values.tolist()\n",
    "plt.xticks(labels=x, ticks=np.arange(len(x)))\n",
    "plt.xlabel('cities')\n",
    "plt.ylabel('population')\n",
    "plt.title('POPULATION AGAINST CITIES IN '+continents[i].upper())\n",
    "plt.bar(x,y);\n"
   ]
  },
  {
   "cell_type": "markdown",
   "id": "e865e5c2",
   "metadata": {},
   "source": [
    "A BARCHART FOR CITIES POPULATION IN EACH COUNTRY"
   ]
  },
  {
   "cell_type": "code",
   "execution_count": 59,
   "id": "67ce1c86",
   "metadata": {},
   "outputs": [
    {
     "name": "stdout",
     "output_type": "stream",
     "text": [
      "Country:24\n",
      "79    City 0\n",
      "80    City 1\n",
      "81    City 2\n",
      "82    City 3\n",
      "83    City 4\n",
      "84    City 5\n",
      "Name: city_name, dtype: object\n"
     ]
    },
    {
     "data": {
      "image/png": "[encoded data removed]",
      "text/plain": [
       "<Figure size 432x288 with 1 Axes>"
      ]
     },
     "metadata": {
      "needs_background": "light"
     },
     "output_type": "display_data"
    }
   ],
   "source": [
    "#plotting population against each city of a particular country\n",
    "\n",
    "\n",
    "num=eval(input('Country:'))\n",
    "mycities=list(range(len(df.groupby('country_name')['city_name'].get_group('Country '+ str(num)))))\n",
    "mycities\n",
    "print( df.groupby('country_name')['city_name'].get_group('Country '+ str(num)));\n",
    "cities_by_countries=df.groupby('country_name')['population'].get_group('Country '+str(num))\n",
    "x=cities_by_countries.index.tolist()\n",
    "y=cities_by_countries.values.tolist()\n",
    "plt.xticks(label=x,ticks=mycities)\n",
    "plt.xlabel('city(ies)')\n",
    "plt.ylabel('population')\n",
    "plt.title('POPULATION AGAINST CITIES IN '+'COUNTRY '+ str(num))\n",
    "plt.bar(x,y);\n"
   ]
  },
  {
   "cell_type": "markdown",
   "id": "260bcdaf",
   "metadata": {},
   "source": [
    "     "
   ]
  },
  {
   "cell_type": "code",
   "execution_count": 7,
   "id": "75c3541b",
   "metadata": {},
   "outputs": [
    {
     "data": {
      "image/png": "[encoded data removed]",
      "text/plain": [
       "<Figure size 432x288 with 1 Axes>"
      ]
     },
     "metadata": {
      "needs_background": "light"
     },
     "output_type": "display_data"
    }
   ],
   "source": [
    "#total population per continent\n",
    "df.groupby('continent').max()['population'].sort_values(ascending=False).plot()\n",
    "plt.title('POP by Continent');\n"
   ]
  },
  {
   "cell_type": "markdown",
   "id": "b8000665",
   "metadata": {},
   "source": [
    "POPULATION DISTRIBUTION of Continents"
   ]
  },
  {
   "cell_type": "markdown",
   "id": "449ec26a",
   "metadata": {},
   "source": [
    "     "
   ]
  },
  {
   "cell_type": "code",
   "execution_count": 8,
   "id": "44bc73a0",
   "metadata": {},
   "outputs": [
    {
     "data": {
      "image/png": "[encoded data removed]",
      "text/plain": [
       "<Figure size 432x288 with 1 Axes>"
      ]
     },
     "metadata": {
      "needs_background": "light"
     },
     "output_type": "display_data"
    }
   ],
   "source": [
    "#Histogram for Africa\n",
    "df.groupby('continent')['population'].get_group('Africa').hist()\n",
    "plt.title('Histogram for population in Africa');"
   ]
  },
  {
   "cell_type": "code",
   "execution_count": 72,
   "id": "a9aa0580",
   "metadata": {},
   "outputs": [
    {
     "data": {
      "text/plain": [
       "817970"
      ]
     },
     "execution_count": 72,
     "metadata": {},
     "output_type": "execute_result"
    }
   ],
   "source": [
    "df.groupby('continent')['population'].get_group('Africa').min()"
   ]
  },
  {
   "cell_type": "raw",
   "id": "61185187",
   "metadata": {},
   "source": [
    "Cities with pop between 1.3 and 1.4 million in Africa have the highest frequency \n",
    "Cities with 0.8 and 2.0 million have the least frequency"
   ]
  },
  {
   "cell_type": "markdown",
   "id": "77e9c9fd",
   "metadata": {},
   "source": [
    "       "
   ]
  },
  {
   "cell_type": "code",
   "execution_count": 9,
   "id": "cd8cd112",
   "metadata": {},
   "outputs": [
    {
     "data": {
      "image/png": "[encoded data removed]",
      "text/plain": [
       "<Figure size 432x288 with 1 Axes>"
      ]
     },
     "metadata": {
      "needs_background": "light"
     },
     "output_type": "display_data"
    }
   ],
   "source": [
    "#Histogram for Asia\n",
    "df.groupby('continent')['population'].get_group('Asia').hist()\n",
    "plt.title('Histogram for population in Asia');"
   ]
  },
  {
   "cell_type": "code",
   "execution_count": 74,
   "id": "33e1ae9f",
   "metadata": {},
   "outputs": [
    {
     "data": {
      "text/plain": [
       "16985241"
      ]
     },
     "execution_count": 74,
     "metadata": {},
     "output_type": "execute_result"
    }
   ],
   "source": [
    "df.groupby('continent')['population'].get_group('Asia').max()"
   ]
  },
  {
   "cell_type": "raw",
   "id": "3e7ba8d0",
   "metadata": {},
   "source": [
    "Cities with pop between 12 and 13 million in Asia have the highest frequency \n",
    "Cities with pop between 7 and 8 million and those between 15 and 16 million have the least frequency "
   ]
  },
  {
   "cell_type": "markdown",
   "id": "76036f2b",
   "metadata": {},
   "source": [
    "     "
   ]
  },
  {
   "cell_type": "code",
   "execution_count": 10,
   "id": "b1f71312",
   "metadata": {},
   "outputs": [
    {
     "data": {
      "image/png": "[encoded data removed]",
      "text/plain": [
       "<Figure size 432x288 with 1 Axes>"
      ]
     },
     "metadata": {
      "needs_background": "light"
     },
     "output_type": "display_data"
    }
   ],
   "source": [
    "#Histogram for Europe\n",
    "df.groupby('continent')['population'].get_group('Europe').hist()\n",
    "plt.title('Histogram for population in Europe');"
   ]
  },
  {
   "cell_type": "code",
   "execution_count": 76,
   "id": "f15d6647",
   "metadata": {},
   "outputs": [
    {
     "data": {
      "text/plain": [
       "1240743"
      ]
     },
     "execution_count": 76,
     "metadata": {},
     "output_type": "execute_result"
    }
   ],
   "source": [
    "df.groupby('continent')['population'].get_group('Europe').max()"
   ]
  },
  {
   "cell_type": "raw",
   "id": "d29ef12f",
   "metadata": {},
   "source": [
    "Cities with pop between 1.05 and 1.1 million in Europe have the highest frequency \n",
    "Cities with pop 0.68 and 0.75 million have the least frequency"
   ]
  },
  {
   "cell_type": "markdown",
   "id": "fb82f48a",
   "metadata": {},
   "source": [
    "       "
   ]
  },
  {
   "cell_type": "markdown",
   "id": "01b215f5",
   "metadata": {},
   "source": [
    "BOXPLOT FOR CONTINENTS"
   ]
  },
  {
   "cell_type": "code",
   "execution_count": 80,
   "id": "5cbd3e76",
   "metadata": {},
   "outputs": [
    {
     "data": {
      "image/png": "[encoded data removed]",
      "text/plain": [
       "<Figure size 432x288 with 1 Axes>"
      ]
     },
     "metadata": {
      "needs_background": "light"
     },
     "output_type": "display_data"
    }
   ],
   "source": [
    "#boxplot for each continents population\n",
    "sb.boxplot(y='population', x='continent', orient='v',data=df);\n",
    "plt.title('Boxplot for Population in continents');"
   ]
  },
  {
   "cell_type": "code",
   "execution_count": 13,
   "id": "4115c00f",
   "metadata": {},
   "outputs": [
    {
     "data": {
      "image/png": "[encoded data removed]",
      "text/plain": [
       "<Figure size 432x288 with 1 Axes>"
      ]
     },
     "metadata": {
      "needs_background": "light"
     },
     "output_type": "display_data"
    }
   ],
   "source": [
    "#boxplot for each countries population\n",
    "sb.boxplot(y='population', x='country_id', orient='v',data=df[:50]);\n",
    "plt.title('Boxplot for Population in countries');"
   ]
  },
  {
   "cell_type": "markdown",
   "id": "0a1fa467",
   "metadata": {},
   "source": [
    "VIOLIN PLOT FOR POPULATION"
   ]
  },
  {
   "cell_type": "code",
   "execution_count": 81,
   "id": "78efd67b",
   "metadata": {},
   "outputs": [
    {
     "name": "stderr",
     "output_type": "stream",
     "text": [
      "C:\\Users\\HP\\anaconda3\\lib\\site-packages\\seaborn\\_decorators.py:36: FutureWarning: Pass the following variable as a keyword arg: x. From version 0.12, the only valid positional argument will be `data`, and passing other arguments without an explicit keyword will result in an error or misinterpretation.\n",
      "  warnings.warn(\n"
     ]
    },
    {
     "data": {
      "image/png": "[encoded data removed]",
      "text/plain": [
       "<Figure size 432x288 with 1 Axes>"
      ]
     },
     "metadata": {
      "needs_background": "light"
     },
     "output_type": "display_data"
    }
   ],
   "source": [
    "#A violin plot for the population of cities\n",
    "\n",
    "sb.violinplot(df['population'], orient='h', color='blue');\n",
    "plt.title('Violin plot for the population of cities');"
   ]
  },
  {
   "cell_type": "raw",
   "id": "90dec284",
   "metadata": {},
   "source": [
    "We can see than most cities have a population of between 10 and 15 million\n",
    "Those between 15 and 20 million have the least frequency"
   ]
  },
  {
   "cell_type": "markdown",
   "id": "ed243500",
   "metadata": {},
   "source": [
    "HUE SEMANTIC"
   ]
  },
  {
   "cell_type": "code",
   "execution_count": 83,
   "id": "4fd5d90c",
   "metadata": {},
   "outputs": [
    {
     "data": {
      "image/png": "[encoded data removed]",
      "text/plain": [
       "<Figure size 430.875x360 with 1 Axes>"
      ]
     },
     "metadata": {
      "needs_background": "light"
     },
     "output_type": "display_data"
    }
   ],
   "source": [
    "#Hue semantic for continents population\n",
    "sb.relplot(x=\"continent\", y=\"population\", hue=\"continent\",data=df);\n",
    "plt.title('Hue semantic for continents population');"
   ]
  },
  {
   "cell_type": "code",
   "execution_count": 86,
   "id": "e3a68422",
   "metadata": {},
   "outputs": [
    {
     "data": {
      "image/png": "[encoded data removed]",
      "text/plain": [
       "<Figure size 360x360 with 1 Axes>"
      ]
     },
     "metadata": {
      "needs_background": "light"
     },
     "output_type": "display_data"
    }
   ],
   "source": [
    "#trip\n",
    "sb.catplot(x=\"continent\", y=\"population\", kind='strip',data=df);\n",
    "plt.title('''Trip plot for continents' population''');"
   ]
  },
  {
   "cell_type": "code",
   "execution_count": 87,
   "id": "48b2485b",
   "metadata": {},
   "outputs": [
    {
     "name": "stderr",
     "output_type": "stream",
     "text": [
      "C:\\Users\\HP\\anaconda3\\lib\\site-packages\\seaborn\\distributions.py:2619: FutureWarning: `distplot` is a deprecated function and will be removed in a future version. Please adapt your code to use either `displot` (a figure-level function with similar flexibility) or `histplot` (an axes-level function for histograms).\n",
      "  warnings.warn(msg, FutureWarning)\n"
     ]
    },
    {
     "data": {
      "image/png": "[encoded data removed]",
      "text/plain": [
       "<Figure size 360x360 with 1 Axes>"
      ]
     },
     "metadata": {
      "needs_background": "light"
     },
     "output_type": "display_data"
    }
   ],
   "source": [
    "# distribution of population\n",
    "plt.figure(figsize=(5,5))\n",
    "sb.distplot(df['population']);\n",
    "plt.title('Distribution of Population');"
   ]
  },
  {
   "cell_type": "raw",
   "id": "4055267b",
   "metadata": {},
   "source": [
    "Population density is highest between 1.0 and 1.5\n",
    "Population density is lowest between 1.75 and 2.0"
   ]
  },
  {
   "cell_type": "markdown",
   "id": "4db174e4",
   "metadata": {},
   "source": [
    "# WORKING WITH SQL"
   ]
  },
  {
   "cell_type": "markdown",
   "id": "bf44f72a",
   "metadata": {},
   "source": [
    "CREATING A DATABASE OF COUNTRIES AND THEIR RESPECTIVE CONTINENTS"
   ]
  },
  {
   "cell_type": "markdown",
   "id": "e8a7f17c",
   "metadata": {},
   "source": [
    "# table cont_countries"
   ]
  },
  {
   "cell_type": "code",
   "execution_count": 4,
   "id": "04ccdb6a",
   "metadata": {},
   "outputs": [],
   "source": [
    "#setting up connection with your sql\n",
    "\n",
    "conn=psy.connect(\"dbname='postgres' user='postgres' host='localhost' password='admin'\")\n",
    "cur=conn.cursor()\n"
   ]
  },
  {
   "cell_type": "code",
   "execution_count": 81,
   "id": "93e75a2b",
   "metadata": {},
   "outputs": [],
   "source": [
    "conn.reset()"
   ]
  },
  {
   "cell_type": "code",
   "execution_count": 83,
   "id": "c2b32ac2",
   "metadata": {},
   "outputs": [
    {
     "ename": "DuplicateTable",
     "evalue": "relation \"cont_countries\" already exists\n",
     "output_type": "error",
     "traceback": [
      "\u001b[1;31m---------------------------------------------------------------------------\u001b[0m",
      "\u001b[1;31mDuplicateTable\u001b[0m                            Traceback (most recent call last)",
      "\u001b[1;32m~\\AppData\\Local\\Temp/ipykernel_4852/2451573121.py\u001b[0m in \u001b[0;36m<module>\u001b[1;34m\u001b[0m\n\u001b[1;32m----> 1\u001b[1;33m cur.execute('''create table cont_countries(\n\u001b[0m\u001b[0;32m      2\u001b[0m \u001b[0mcontinent\u001b[0m \u001b[0mvarchar\u001b[0m\u001b[1;33m(\u001b[0m\u001b[1;36m6\u001b[0m\u001b[1;33m)\u001b[0m\u001b[1;33m,\u001b[0m\u001b[1;33m\u001b[0m\u001b[1;33m\u001b[0m\u001b[0m\n\u001b[0;32m      3\u001b[0m         \u001b[0mcountry_name\u001b[0m \u001b[0mvarchar\u001b[0m\u001b[1;33m(\u001b[0m\u001b[1;36m12\u001b[0m\u001b[1;33m)\u001b[0m\u001b[1;33m,\u001b[0m\u001b[1;33m\u001b[0m\u001b[1;33m\u001b[0m\u001b[0m\n\u001b[0;32m      4\u001b[0m         \u001b[0mcountry_id\u001b[0m \u001b[0mvarchar\u001b[0m\u001b[1;33m(\u001b[0m\u001b[1;36m6\u001b[0m\u001b[1;33m)\u001b[0m\u001b[1;33m\u001b[0m\u001b[1;33m\u001b[0m\u001b[0m\n\u001b[0;32m      5\u001b[0m \u001b[1;33m\u001b[0m\u001b[0m\n",
      "\u001b[1;31mDuplicateTable\u001b[0m: relation \"cont_countries\" already exists\n"
     ]
    }
   ],
   "source": [
    "cur.execute('''create table cont_countries(\n",
    "continent varchar(6),\n",
    "\tcountry_name varchar(12),\n",
    "\tcountry_id varchar(6)\n",
    "\t\n",
    ")''')\n"
   ]
  },
  {
   "cell_type": "code",
   "execution_count": 84,
   "id": "5e7aacaa",
   "metadata": {},
   "outputs": [
    {
     "ename": "InFailedSqlTransaction",
     "evalue": "current transaction is aborted, commands ignored until end of transaction block\n",
     "output_type": "error",
     "traceback": [
      "\u001b[1;31m---------------------------------------------------------------------------\u001b[0m",
      "\u001b[1;31mInFailedSqlTransaction\u001b[0m                    Traceback (most recent call last)",
      "\u001b[1;32m~\\AppData\\Local\\Temp/ipykernel_4852/3269018108.py\u001b[0m in \u001b[0;36m<module>\u001b[1;34m\u001b[0m\n\u001b[0;32m     14\u001b[0m \u001b[1;33m\u001b[0m\u001b[0m\n\u001b[0;32m     15\u001b[0m \u001b[1;32mfor\u001b[0m \u001b[0mrow_no\u001b[0m\u001b[1;33m,\u001b[0m\u001b[0mrow\u001b[0m \u001b[1;32min\u001b[0m \u001b[0mdf\u001b[0m\u001b[1;33m.\u001b[0m\u001b[0miterrows\u001b[0m\u001b[1;33m(\u001b[0m\u001b[1;33m)\u001b[0m\u001b[1;33m:\u001b[0m\u001b[1;33m\u001b[0m\u001b[1;33m\u001b[0m\u001b[0m\n\u001b[1;32m---> 16\u001b[1;33m     \u001b[0minserting_to_cont_countries_pop\u001b[0m\u001b[1;33m(\u001b[0m\u001b[0mrow\u001b[0m\u001b[1;33m)\u001b[0m\u001b[1;33m\u001b[0m\u001b[1;33m\u001b[0m\u001b[0m\n\u001b[0m",
      "\u001b[1;32m~\\AppData\\Local\\Temp/ipykernel_4852/3269018108.py\u001b[0m in \u001b[0;36minserting_to_cont_countries_pop\u001b[1;34m(s)\u001b[0m\n\u001b[0;32m     11\u001b[0m     \u001b[0mcols\u001b[0m\u001b[1;33m=\u001b[0m\u001b[1;33m(\u001b[0m\u001b[0mcontinent\u001b[0m\u001b[1;33m,\u001b[0m\u001b[0mcountry_name\u001b[0m\u001b[1;33m,\u001b[0m\u001b[0mcountry_id\u001b[0m\u001b[1;33m)\u001b[0m\u001b[1;33m\u001b[0m\u001b[1;33m\u001b[0m\u001b[0m\n\u001b[0;32m     12\u001b[0m \u001b[1;33m\u001b[0m\u001b[0m\n\u001b[1;32m---> 13\u001b[1;33m     \u001b[0mcur\u001b[0m\u001b[1;33m.\u001b[0m\u001b[0mexecute\u001b[0m\u001b[1;33m(\u001b[0m\u001b[0mcode\u001b[0m\u001b[1;33m,\u001b[0m\u001b[0mcols\u001b[0m\u001b[1;33m)\u001b[0m\u001b[1;33m\u001b[0m\u001b[1;33m\u001b[0m\u001b[0m\n\u001b[0m\u001b[0;32m     14\u001b[0m \u001b[1;33m\u001b[0m\u001b[0m\n\u001b[0;32m     15\u001b[0m \u001b[1;32mfor\u001b[0m \u001b[0mrow_no\u001b[0m\u001b[1;33m,\u001b[0m\u001b[0mrow\u001b[0m \u001b[1;32min\u001b[0m \u001b[0mdf\u001b[0m\u001b[1;33m.\u001b[0m\u001b[0miterrows\u001b[0m\u001b[1;33m(\u001b[0m\u001b[1;33m)\u001b[0m\u001b[1;33m:\u001b[0m\u001b[1;33m\u001b[0m\u001b[1;33m\u001b[0m\u001b[0m\n",
      "\u001b[1;31mInFailedSqlTransaction\u001b[0m: current transaction is aborted, commands ignored until end of transaction block\n"
     ]
    }
   ],
   "source": [
    "code='''\n",
    "INSERT INTO cont_countries(continent,country_name,country_id) \n",
    "VALUES(%s,%s,%s)\n",
    "'''\n",
    "\n",
    "\n",
    "def inserting_to_cont_countries_pop(s):\n",
    "    continent=s.continent\n",
    "    country_name=s.country_name\n",
    "    country_id=s.country_id\n",
    "    cols=(continent,country_name,country_id)\n",
    "    \n",
    "    cur.execute(code,cols)\n",
    "    \n",
    "for row_no,row in df.iterrows():\n",
    "    inserting_to_cont_countries_pop(row)"
   ]
  },
  {
   "cell_type": "code",
   "execution_count": 85,
   "id": "9f1247f0",
   "metadata": {},
   "outputs": [],
   "source": [
    "conn.commit()"
   ]
  },
  {
   "cell_type": "code",
   "execution_count": 23,
   "id": "41585778",
   "metadata": {},
   "outputs": [
    {
     "data": {
      "text/plain": [
       "[('Europe', 'Country 22'),\n",
       " ('Europe', 'Country 22'),\n",
       " ('Europe', 'Country 22'),\n",
       " ('Europe', 'Country 22'),\n",
       " ('Europe', 'Country 22'),\n",
       " ('Europe', 'Country 22'),\n",
       " ('Europe', 'Country 22')]"
      ]
     },
     "execution_count": 23,
     "metadata": {},
     "output_type": "execute_result"
    }
   ],
   "source": [
    "cur.execute('''select continent,country_name from cont_countries where country_name='Country 22'\n",
    "''')\n",
    "cur.fetchall()"
   ]
  },
  {
   "cell_type": "markdown",
   "id": "4b470a8c",
   "metadata": {},
   "source": [
    "# table count_city"
   ]
  },
  {
   "cell_type": "code",
   "execution_count": 76,
   "id": "c81cae6a",
   "metadata": {},
   "outputs": [],
   "source": [
    "cur.execute('''create table count_city(\n",
    "country_name varchar(12),\n",
    "\tcity_name varchar(8),\n",
    "\tcity_id varchar(6)\n",
    ")\n",
    "''')"
   ]
  },
  {
   "cell_type": "code",
   "execution_count": 77,
   "id": "2569c103",
   "metadata": {},
   "outputs": [],
   "source": [
    "code='''\n",
    "INSERT INTO count_city(country_name,city_name,city_id) \n",
    "VALUES(%s,%s,%s)\n",
    "'''\n",
    "\n",
    "\n",
    "def inserting_to_count_city(s):\n",
    "    country_name=s.country_name\n",
    "    city_name=s.city_name\n",
    "    city_id=s.city_id\n",
    "    cols=(country_name,city_name,city_id)\n",
    "    \n",
    "    cur.execute(code,cols)\n",
    "    \n",
    "for row_no,row in df.iterrows():\n",
    "    inserting_to_count_city(row)"
   ]
  },
  {
   "cell_type": "code",
   "execution_count": 79,
   "id": "c7aaea7a",
   "metadata": {},
   "outputs": [],
   "source": [
    "conn.commit()"
   ]
  },
  {
   "cell_type": "code",
   "execution_count": 80,
   "id": "66e1f904",
   "metadata": {},
   "outputs": [
    {
     "data": {
      "text/plain": [
       "[('Country 1', 'City 0', 'cid0'),\n",
       " ('Country 1', 'City 1', 'cid1'),\n",
       " ('Country 1', 'City 2', 'cid2'),\n",
       " ('Country 1', 'City 3', 'cid3')]"
      ]
     },
     "execution_count": 80,
     "metadata": {},
     "output_type": "execute_result"
    }
   ],
   "source": [
    "cur.execute('''select * from count_city where country_name='Country 1'\n",
    "''')\n",
    "cur.fetchall()"
   ]
  },
  {
   "cell_type": "markdown",
   "id": "c37ed933",
   "metadata": {},
   "source": [
    "# table city_population"
   ]
  },
  {
   "cell_type": "code",
   "execution_count": 87,
   "id": "ed78bba2",
   "metadata": {},
   "outputs": [],
   "source": [
    "cur.execute('''CREATE TABLE city_population(\n",
    "city_name varchar(8),\t\n",
    "city_id varchar(6),\n",
    "population bigint\n",
    ")''')\n"
   ]
  },
  {
   "cell_type": "code",
   "execution_count": 88,
   "id": "f9f9899d",
   "metadata": {},
   "outputs": [],
   "source": [
    "code='''\n",
    "INSERT INTO city_population(city_name,city_id,population) \n",
    "VALUES(%s,%s,%s)\n",
    "'''\n",
    "\n",
    "\n",
    "def inserting_to_city_pop(s):\n",
    "    city_name=s.city_name\n",
    "    city_id=s.city_id\n",
    "    population=s.population\n",
    "    cols=(city_name,city_id,population)\n",
    "    \n",
    "    cur.execute(code,cols)\n",
    "    \n",
    "for row_no,row in df.iterrows():\n",
    "    inserting_to_city_pop(row)\n"
   ]
  },
  {
   "cell_type": "code",
   "execution_count": 86,
   "id": "bad04601",
   "metadata": {},
   "outputs": [],
   "source": [
    "conn.reset()"
   ]
  },
  {
   "cell_type": "code",
   "execution_count": 89,
   "id": "4808353f",
   "metadata": {},
   "outputs": [],
   "source": [
    "conn.commit()"
   ]
  },
  {
   "cell_type": "code",
   "execution_count": 90,
   "id": "c65b27f2",
   "metadata": {},
   "outputs": [
    {
     "data": {
      "text/plain": [
       "[('City 0', 'cid0', 940371),\n",
       " ('City 0', 'cid0', 1170319),\n",
       " ('City 1', 'cid1', 1580651),\n",
       " ('City 2', 'cid2', 1360412),\n",
       " ('City 3', 'cid3', 1390719)]"
      ]
     },
     "execution_count": 90,
     "metadata": {},
     "output_type": "execute_result"
    }
   ],
   "source": [
    "cur.execute('''select * from city_population\n",
    "''')\n",
    "cur.fetchmany(5)"
   ]
  },
  {
   "cell_type": "markdown",
   "id": "93796945",
   "metadata": {},
   "source": [
    "JOINING TABLES"
   ]
  },
  {
   "cell_type": "code",
   "execution_count": 30,
   "id": "b1c1ec74",
   "metadata": {},
   "outputs": [
    {
     "data": {
      "text/plain": [
       "[('Asia',\n",
       "  'Country 25',\n",
       "  'id_25',\n",
       "  'Country 25',\n",
       "  'City 0',\n",
       "  'cid0',\n",
       "  'City 0',\n",
       "  'cid0',\n",
       "  940371)]"
      ]
     },
     "execution_count": 30,
     "metadata": {},
     "output_type": "execute_result"
    }
   ],
   "source": [
    "cur.execute('''SELECT * FROM cont_countries,count_city,city_population where cont_countries.country_name=count_city.country_name\n",
    "and count_city.city_name=city_population.city_name\n",
    "''')\n",
    "cur.fetchmany(1)"
   ]
  },
  {
   "cell_type": "code",
   "execution_count": null,
   "id": "942f201b",
   "metadata": {},
   "outputs": [],
   "source": [
    "#Filling the NaN with median \n",
    "md=mydf['Historical_Population'].median()\n",
    "mydf['Historical_Population'].fillna(md,inplace=True)"
   ]
  }
 ],
 "metadata": {
  "kernelspec": {
   "display_name": "Python 3 (ipykernel)",
   "language": "python",
   "name": "python3"
  },
  "language_info": {
   "codemirror_mode": {
    "name": "ipython",
    "version": 3
   },
   "file_extension": ".py",
   "mimetype": "text/x-python",
   "name": "python",
   "nbconvert_exporter": "python",
   "pygments_lexer": "ipython3",
   "version": "3.9.7"
  }
 },
 "nbformat": 4,
 "nbformat_minor": 5
}
